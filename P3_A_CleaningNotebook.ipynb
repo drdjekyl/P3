{
 "cells": [
  {
   "cell_type": "raw",
   "metadata": {},
   "source": [
    "1. Traiter le jeu de données afin de repérer des variables pertinentes pour les traitements à venir. "
   ]
  },
  {
   "cell_type": "raw",
   "metadata": {},
   "source": [
    "2. Automatiser ces traitements pour éviter de répéter ces opérations."
   ]
  },
  {
   "cell_type": "markdown",
   "metadata": {},
   "source": [
    "#### /!\\/!\\/!\\ Attention les outputs de ce notebook sont en texte brut pour ne pas interférer avec le %run dans le notebook d'exploration /!\\/!\\/!\\"
   ]
  },
  {
   "cell_type": "code",
   "execution_count": 1,
   "metadata": {},
   "outputs": [],
   "source": [
    "# import des principales librairies\n",
    "import matplotlib.pyplot as plt\n",
    "import numpy as np\n",
    "import pandas as pd\n",
    "\n",
    "# paramétrage de la fonction display pandas\n",
    "pd.set_option('display.max_columns', 500)\n",
    "pd.set_option('display.max_rows', 500)\n",
    "pd.set_option('max_colwidth', 50)"
   ]
  },
  {
   "cell_type": "raw",
   "metadata": {},
   "source": [
    "#chargement du dataset original\n",
    "#disponible à l'adresse : https://static.openfoodfacts.org/data/en.openfoodfacts.org.products.csv\n",
    "df = pd.read_csv('openfood_data.csv', sep='\\t', encoding='UTF-8', low_memory=False)"
   ]
  },
  {
   "cell_type": "code",
   "execution_count": 1,
   "metadata": {},
   "outputs": [],
   "source": [
    "def presentation(df):\n",
    "    \"\"\"donne des détails du dataframe\"\"\"\n",
    "    display(df.head(3))\n",
    "\n",
    "    # calcul le % de NA\n",
    "    na = df.isna()\n",
    "    nanumber = np.count_nonzero(na == True)\n",
    "    total_val = len(df.columns) * len(df)\n",
    "\n",
    "    print(\n",
    "        f'Pourcentage de NA dans le jeu de données : {nanumber/total_val*100:.2f} %'\n",
    "    )\n",
    "    print('df.shape :', df.shape)"
   ]
  },
  {
   "cell_type": "raw",
   "metadata": {},
   "source": [
    "presentation(df)"
   ]
  },
  {
   "cell_type": "code",
   "execution_count": 10,
   "metadata": {},
   "outputs": [],
   "source": [
    "def plot_na(df):\n",
    "    \"\"\"sortie de 2 graphiques : Drop des NA par ratio [ligne/colonne]\"\"\"\n",
    "    x1 = []\n",
    "    y1 = []\n",
    "\n",
    "    x2 = []\n",
    "    y2 = []\n",
    "\n",
    "    fig, (ax1, ax2) = plt.subplots(1, 2, figsize=(20, 8))\n",
    "    fig.suptitle('NA Drop', size=14, weight='bold')\n",
    "\n",
    "    ax1.set_title('rows')\n",
    "    ax2.set_title('columns')\n",
    "\n",
    "    # AX1\n",
    "    for i in range(0, 101, 10):\n",
    "        x1.append(int(i * len(df.columns) / 100))\n",
    "    for j in x1:\n",
    "        y1.append(len(df.dropna(axis=0, thresh=j)))\n",
    "\n",
    "    # AX2\n",
    "    for i in range(0, 10, 1):\n",
    "        x2.append(int(i * len(df) / 100))\n",
    "    for j in x2:\n",
    "        new_df = df.dropna(axis=1, thresh=j)\n",
    "        y2.append(len(new_df.columns))\n",
    "\n",
    "    ax1.plot(x1, y1, color='b', linestyle='dashed')\n",
    "    ax2.plot(x2, y2, color='red', linestyle='dashed')\n",
    "\n",
    "    ax1.set_xlabel('NA per rows')\n",
    "    ax1.set_ylabel('total rows')\n",
    "\n",
    "    ax2.set_xlabel('NA per columns')\n",
    "    ax2.set_ylabel('total columns')\n",
    "\n",
    "    plt.show()"
   ]
  },
  {
   "cell_type": "raw",
   "metadata": {},
   "source": [
    "plot_na(df)"
   ]
  },
  {
   "cell_type": "code",
   "execution_count": 14,
   "metadata": {},
   "outputs": [],
   "source": [
    "def drop_col(df, na_ratio, drop_or_not):\n",
    "    \"\"\"création d'un nouveau df en fonction du ratio de NA choisi\"\"\"\n",
    "    na_per_col = na_ratio * len(df)\n",
    "    df_shape = df.dropna(axis=1, thresh=na_per_col).shape\n",
    "    print('Drop des colonnes dont le nombre de valeurs réelles <',\n",
    "          int(na_per_col), ': df.shape =', df_shape)\n",
    "\n",
    "    if drop_or_not == True:\n",
    "        df = df.dropna(axis=1, thresh=na_per_col, inplace=True)"
   ]
  },
  {
   "cell_type": "code",
   "execution_count": 15,
   "metadata": {},
   "outputs": [],
   "source": [
    "def drop_row(df, na_ratio, drop_or_not):\n",
    "    \"\"\"création d'un nouveau df en fonction du ratio de NA choisi\"\"\"\n",
    "    na_per_row = na_ratio * len(df.columns)\n",
    "    df_shape = df.dropna(axis=0, thresh=na_per_row).shape\n",
    "    print('Drop des lignes dont le nombre de valeurs réelles <',\n",
    "          int(na_per_row), ': df.shape =', df_shape)\n",
    "\n",
    "    if drop_or_not == True:\n",
    "        df = df.dropna(axis=0, thresh=na_per_row, inplace=True)"
   ]
  },
  {
   "cell_type": "code",
   "execution_count": 9,
   "metadata": {},
   "outputs": [],
   "source": [
    "def plot_min_max(df):\n",
    "    \"\"\"sortie de 2 graphiques : Classe les 20 premiers [min/max] par colonne\"\"\"\n",
    "    fig, (ax1, ax2) = plt.subplots(1, 2, figsize=(20, 8))\n",
    "    fig.suptitle('Les 10 indicateurs classés par :', size=14, weight='bold')\n",
    "\n",
    "    ax1.set_title('Valeurs minimales')\n",
    "    ax2.set_title('Valeurs maximales')\n",
    "\n",
    "    # AX1\n",
    "    y1 = df.iloc[2:, 2].sort_values().head(15)\n",
    "    r1 = range(len(y1))\n",
    "\n",
    "    # AX2\n",
    "    y2 = df.iloc[2:, 3].sort_values(ascending=False).head(15)\n",
    "    r2 = range(len(y2))\n",
    "\n",
    "    ax1.barh(r1, y1, color='b', linestyle='dashed')\n",
    "    ax2.barh(r2, y2, color='red', linestyle='dashed')\n",
    "\n",
    "    ax1.set_yticks(r1)\n",
    "    ax2.set_yticks(r2)\n",
    "\n",
    "    ax1.set_yticklabels(y1.index)\n",
    "    ax2.set_yticklabels(y2.index)\n",
    "\n",
    "    plt.show()"
   ]
  },
  {
   "cell_type": "code",
   "execution_count": 10,
   "metadata": {},
   "outputs": [],
   "source": [
    "def plot_stats(df):\n",
    "    \"\"\"sortie de 2 graphiques : Classe les [mean/median/std] par colonne\"\"\"\n",
    "    fig, (ax1, ax2, ax3) = plt.subplots(1, 3, figsize=(20, 8))\n",
    "    fig.suptitle('Les 10 indicateurs classés par :', size=14, weight='bold')\n",
    "\n",
    "    ax1.set_title('Std')\n",
    "    ax2.set_title('Mean')\n",
    "    ax3.set_title('Median')\n",
    "\n",
    "    # AX1\n",
    "    y1 = df.iloc[2:, 0].sort_values(ascending=False).head(10)\n",
    "    r1 = range(len(y1))\n",
    "\n",
    "    # AX2\n",
    "    y2 = df.iloc[2:, 1].sort_values(ascending=False).head(10)\n",
    "    r2 = range(len(y2))\n",
    "\n",
    "    # AX3\n",
    "    y3 = df.iloc[2:, 4].sort_values(ascending=False).head(10)\n",
    "    r3 = range(len(y2))\n",
    "\n",
    "    ax1.bar(r1, y1, color='b', linestyle='dashed')\n",
    "    ax2.bar(r2, y2, color='red', linestyle='dashed')\n",
    "    ax3.bar(r3, y3, color='green', linestyle='dashed')\n",
    "\n",
    "    ax1.set_xticks(r1)\n",
    "    ax2.set_xticks(r2)\n",
    "    ax3.set_xticks(r3)\n",
    "\n",
    "    ax1.set_xticklabels(y1.index, rotation=90)\n",
    "    ax2.set_xticklabels(y2.index, rotation=90)\n",
    "    ax3.set_xticklabels(y3.index, rotation=90)\n",
    "\n",
    "    plt.show()"
   ]
  },
  {
   "cell_type": "code",
   "execution_count": 11,
   "metadata": {},
   "outputs": [],
   "source": [
    "def relevant_features(df):\n",
    "    # enregistrement des indicateurs stats dans des dF spécifiques: dispersion et tendance centrale\n",
    "    std_df = df.std(axis=0, numeric_only=True)\n",
    "    mean_df = df.mean(axis=0, numeric_only=True)\n",
    "    min_df = df.min(axis=0, numeric_only=True)\n",
    "    max_df = df.max(axis=0, numeric_only=True)\n",
    "    median_df = df.median(axis=0, numeric_only=True)\n",
    "\n",
    "    # concaténation des 5 dF obtenues vers un dF unique\n",
    "    df_feature = pd.concat([std_df, mean_df, min_df, max_df, median_df],\n",
    "                           axis=1,\n",
    "                           keys=['std', 'mean', 'min', 'max', 'median'])\n",
    "\n",
    "    # supprime l'écritutre scientifique du dF\n",
    "    df_feature = df_feature.astype(object)\n",
    "\n",
    "    # appel des fonctions graphiques\n",
    "    plot_min_max(df_feature)\n",
    "    plot_stats(df_feature)"
   ]
  },
  {
   "cell_type": "raw",
   "metadata": {},
   "source": [
    "relevant_features(df)"
   ]
  },
  {
   "cell_type": "code",
   "execution_count": 11,
   "metadata": {},
   "outputs": [],
   "source": [
    "def plot_column(ser):\n",
    "    \"\"\"sortie de 2 graphiques : Un nuage de point et une box plot par pd.Series séléctionné en argument\"\"\"\n",
    "    blood_diamond = dict(markerfacecolor='red', marker='D')\n",
    "\n",
    "    fig = plt.figure(constrained_layout=True, figsize=(20, 7))\n",
    "    gs = fig.add_gridspec(1, 4)\n",
    "\n",
    "    fig.suptitle(f'Représentation graphique de la série : {ser.name}',\n",
    "                 size=15,\n",
    "                 weight='bold')\n",
    "\n",
    "    ax1 = fig.add_subplot(gs[0, :-1])\n",
    "    ax2 = fig.add_subplot(gs[0, -1:])\n",
    "\n",
    "    ax2.tick_params(axis='both',\n",
    "                    which='both',\n",
    "                    bottom=False,\n",
    "                    top=False,\n",
    "                    left=False,\n",
    "                    labelbottom=False,\n",
    "                    labelleft=False)\n",
    "\n",
    "    ax1.set_title('Nuage de points', size=14)\n",
    "    ax2.set_title('Boxplot', size=14)\n",
    "\n",
    "    ax1.scatter(ser.index, ser, c='red', marker='.')\n",
    "    ax2.boxplot(ser.dropna(), vert=True, flierprops=blood_diamond)\n",
    "\n",
    "    stat_txt = f\"\"\"\n",
    "    n : {ser.count()}\n",
    "    \n",
    "    Med : {ser.median(axis=0, skipna=True):.2f}\n",
    "    Mean : {ser.mean(axis=0, skipna=True):.2f}\n",
    "    Std : {ser.std(axis=0, skipna=True):.2f}\"\"\"\n",
    "\n",
    "    ax1.text(0.89, 0.78, stat_txt, transform=ax1.transAxes, fontsize=14)"
   ]
  },
  {
   "cell_type": "code",
   "execution_count": 6,
   "metadata": {},
   "outputs": [],
   "source": [
    "def bar_column(ser):\n",
    "    \"\"\"sortie de 2 graphiques : Un nuage de point et une box plot par pd.Series séléctionné en argument\"\"\"\n",
    "    blood_diamond = dict(markerfacecolor='red', marker='D')\n",
    "\n",
    "    fig = plt.figure(figsize=(20, 7), constrained_layout=True)\n",
    "    gs = fig.add_gridspec(4, 1)\n",
    "\n",
    "    ax1 = fig.add_subplot(gs[0:3, :])\n",
    "    ax2 = fig.add_subplot(gs[-1:, :])\n",
    "\n",
    "    ax2.tick_params(axis='both',\n",
    "                    which='both',\n",
    "                    bottom=False,\n",
    "                    left=False,\n",
    "                    labelleft=False,\n",
    "                    labelbottom=False)\n",
    "\n",
    "    ax1.hist(ser.dropna(), bins='sturges', align='left')\n",
    "\n",
    "    ax2.boxplot(ser.dropna(), vert=False, flierprops=blood_diamond)\n",
    "\n",
    "    ax1.set_title(f'Représentation graphique de la série : {ser.name}',\n",
    "                  size=20,\n",
    "                  weight='bold')\n",
    "\n",
    "    stat_txt = f\"\"\"\n",
    "    n : {ser.count()}\n",
    "\n",
    "    Mean : {ser.mean(axis=0, skipna=True):.2f}\n",
    "    Std : {ser.std(axis=0, skipna=True):.2f}\n",
    "  \n",
    "    Min : {ser.min(axis=0, skipna=True):.2f}\n",
    "    Median : {ser.median(axis=0, skipna=True):.2f}\n",
    "    Max : {ser.max(axis=0, skipna=True):.2f}\"\"\"\n",
    "\n",
    "    ax1.text(0.89, 0.6, stat_txt, transform=ax1.transAxes, fontsize=14)\n",
    "    plt.savefig(ser.name)"
   ]
  },
  {
   "cell_type": "code",
   "execution_count": 5,
   "metadata": {},
   "outputs": [],
   "source": [
    "def linear_regression(x, y):\n",
    "    \"\"\"Permets de réaliser l'analyse du jeu de donnée nettoyé\"\"\"\n",
    "    # Affichage graphique\n",
    "    plt.figure(figsize=(8, 5))\n",
    "\n",
    "    # Titres et labels\n",
    "    plt.title('Linear regression')\n",
    "    plt.xlabel(x.name)\n",
    "    plt.ylabel(y.name)\n",
    "\n",
    "    # Reshape data\n",
    "    x = np.array(x).reshape(-1, 1)\n",
    "    y = np.array(y).reshape(-1, 1)\n",
    "\n",
    "    # Split du jeu de données\n",
    "    xtrain, xtest, ytrain, ytest = model_selection.train_test_split(\n",
    "        x, y, test_size=0.3)\n",
    "    # Création du modèle\n",
    "    reg = linear_model.LinearRegression()\n",
    "    # Entraînement du modèle\n",
    "    reg.fit(xtrain, ytrain)\n",
    "    # Prédiction\n",
    "    ypred = reg.predict(xtest)\n",
    "\n",
    "    # Affichage des principaux résultats statistiques de la régression\n",
    "    print(f'MSE linear : {mean_squared_error(ytest, ypred):.5f}')\n",
    "    print(f'Rsquare linear : {r2_score(ytest, ypred):.5f}')\n",
    "\n",
    "    # Scatter et plot pour visualisation de la régression et du dataset prédit\n",
    "    plt.scatter(xtest, ytest, marker='.', color='k', label='predicted dataset')\n",
    "    plt.plot(xtest, ypred, color='red', label='regression')\n",
    "    plt.legend(bbox_to_anchor=(1.05, 1), loc='upper left', borderaxespad=0.)\n",
    "\n",
    "    plt.show()"
   ]
  }
 ],
 "metadata": {
  "kernelspec": {
   "display_name": "Python 3",
   "language": "python",
   "name": "python3"
  },
  "language_info": {
   "codemirror_mode": {
    "name": "ipython",
    "version": 3
   },
   "file_extension": ".py",
   "mimetype": "text/x-python",
   "name": "python",
   "nbconvert_exporter": "python",
   "pygments_lexer": "ipython3",
   "version": "3.8.3"
  }
 },
 "nbformat": 4,
 "nbformat_minor": 4
}
